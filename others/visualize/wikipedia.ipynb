{
 "cells": [
  {
   "cell_type": "code",
   "execution_count": 2,
   "metadata": {},
   "outputs": [],
   "source": [
    "import snap"
   ]
  },
  {
   "cell_type": "markdown",
   "metadata": {},
   "source": [
    "# wikipeia's data explore"
   ]
  },
  {
   "cell_type": "code",
   "execution_count": 11,
   "metadata": {},
   "outputs": [],
   "source": [
    "graph=snap.LoadEdgeList(snap.PNGraph,'data\\Wiki-Vote.txt',0,1)\n",
    "snap.PrintInfo(graph,'Python type PNGraph','wiki-info1.txt',False)"
   ]
  },
  {
   "cell_type": "code",
   "execution_count": 13,
   "metadata": {},
   "outputs": [
    {
     "name": "stdout",
     "output_type": "stream",
     "text": [
      "num of nodes whose Penetration less than 10:  5165\n"
     ]
    }
   ],
   "source": [
    "# num of nodes whose Penetration less than 10\n",
    "num=0\n",
    "for i in range(10):\n",
    "    num+=snap.CntInDegNodes(graph,i)\n",
    "print('num of nodes whose Penetration less than 10: ',num)"
   ]
  },
  {
   "cell_type": "code",
   "execution_count": 14,
   "metadata": {},
   "outputs": [
    {
     "name": "stdout",
     "output_type": "stream",
     "text": [
      "num of nodes whose Out degree more than 10 :  5424\n"
     ]
    }
   ],
   "source": [
    "#num of nodes whose Out degree more than 10 \n",
    "num=0\n",
    "for i in range(10):\n",
    "    num+=snap.CntOutDegNodes(graph,i)\n",
    "print('num of nodes whose Out degree more than 10 : ',num)"
   ]
  },
  {
   "cell_type": "code",
   "execution_count": null,
   "metadata": {},
   "outputs": [],
   "source": []
  }
 ],
 "metadata": {
  "interpreter": {
   "hash": "038eda8c76a1951754e57bd035650513593351de2fceb436ce8ff357ea69701f"
  },
  "kernelspec": {
   "display_name": "Python 3.7.9 64-bit ('base': conda)",
   "name": "python3"
  },
  "language_info": {
   "codemirror_mode": {
    "name": "ipython",
    "version": 3
   },
   "file_extension": ".py",
   "mimetype": "text/x-python",
   "name": "python",
   "nbconvert_exporter": "python",
   "pygments_lexer": "ipython3",
   "version": "3.7.9"
  },
  "orig_nbformat": 4
 },
 "nbformat": 4,
 "nbformat_minor": 2
}
