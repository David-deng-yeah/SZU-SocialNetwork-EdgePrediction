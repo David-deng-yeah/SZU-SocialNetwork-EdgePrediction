{
 "cells": [
  {
   "cell_type": "code",
   "execution_count": 6,
   "metadata": {},
   "outputs": [],
   "source": [
    "import snap"
   ]
  },
  {
   "cell_type": "code",
   "execution_count": 9,
   "metadata": {},
   "outputs": [
    {
     "name": "stdout",
     "output_type": "stream",
     "text": [
      "G1: Nodes 3, Edges 3\n"
     ]
    }
   ],
   "source": [
    "# create a graph PNGraph\n",
    "G1 = snap.TNGraph.New()\n",
    "G1.AddNode(1)\n",
    "G1.AddNode(5)\n",
    "G1.AddNode(32)\n",
    "G1.AddEdge(1,5)\n",
    "G1.AddEdge(5,1)\n",
    "G1.AddEdge(5,32)\n",
    "print(\"G1: Nodes %d, Edges %d\" % (G1.GetNodes(), G1.GetEdges()))"
   ]
  },
  {
   "cell_type": "code",
   "execution_count": null,
   "metadata": {},
   "outputs": [],
   "source": [
    "\n",
    "# create a directed random graph on 100 nodes and 1k edges\n",
    "G2 = snap.GenRndGnm(snap.TNGraph, 100, 1000)\n",
    "print(\"G2: Nodes %d, Edges %d\" % (G2.GetNodes(), G2.GetEdges()))\n",
    "\n",
    "# traverse the nodes\n",
    "for NI in G2.Nodes():\n",
    "    print(\"node id %d with out-degree %d and in-degree %d\" % (\n",
    "        NI.GetId(), NI.GetOutDeg(), NI.GetInDeg()))\n",
    "# traverse the edges\n",
    "for EI in G2.Edges():\n",
    "    print(\"edge (%d, %d)\" % (EI.GetSrcNId(), EI.GetDstNId()))\n",
    "\n",
    "# traverse the edges by nodes\n",
    "for NI in G2.Nodes():\n",
    "    for Id in NI.GetOutEdges():\n",
    "        print(\"edge (%d %d)\" % (NI.GetId(), Id))\n",
    "\n",
    "# generate a network using Forest Fire model\n",
    "G3 = snap.GenForestFire(1000, 0.35, 0.35)\n",
    "print(\"G3: Nodes %d, Edges %d\" % (G3.GetNodes(), G3.GetEdges()))\n",
    "\n",
    "# save and load binary\n",
    "FOut = snap.TFOut(\"test.graph\")\n",
    "G3.Save(FOut)\n",
    "FOut.Flush()\n",
    "FIn = snap.TFIn(\"test.graph\")\n",
    "G4 = snap.TNGraph.Load(FIn)\n",
    "print(\"G4: Nodes %d, Edges %d\" % (G4.GetNodes(), G4.GetEdges()))\n",
    "\n",
    "# save and load from a text file\n",
    "G4.SaveEdgeList(\"test.txt\", \"Save as tab-separated list of edges\")\n",
    "G5 = snap.LoadEdgeList(snap.TNGraph, \"test.txt\", 0, 1)\n",
    "print(\"G5: Nodes %d, Edges %d\" % (G5.GetNodes(), G5.GetEdges()))\n",
    "\n",
    "# generate a network using Forest Fire model\n",
    "G6 = snap.GenForestFire(1000, 0.35, 0.35)\n",
    "print(\"G6: Nodes %d, Edges %d\" % (G6.GetNodes(), G6.GetEdges()))\n",
    "# convert to undirected graph\n",
    "G7 = G6.ConvertGraph(snap.TUNGraph)\n",
    "print(\"G7: Nodes %d, Edges %d\" % (G7.GetNodes(), G7.GetEdges()))\n",
    "# get largest weakly connected component of G\n",
    "WccG = G6.GetMxWcc()\n",
    "# get a subgraph induced on nodes {0,1,2,3,4,5}\n",
    "SubG = G6.GetSubGraph([0,1,2,3,4])\n",
    "# get 3-core of G\n",
    "Core3 = G6.GetKCore(3)\n",
    "# delete nodes of out degree 10 and in degree 5\n",
    "G6.DelDegKNodes(10, 5)\n",
    "print(\"G6: Nodes %d, Edges %d\" % (G6.GetNodes(), G6.GetEdges()))\n",
    "\n",
    "# generate a Preferential Attachment graph on 1000 nodes and node out degree of 3\n",
    "G8 = snap.GenPrefAttach(1000, 3)\n",
    "print(\"G8: Nodes %d, Edges %d\" % (G8.GetNodes(), G8.GetEdges()))\n",
    "# get distribution of connected components (component size, count)\n",
    "CntV = G8.GetWccSzCnt()\n",
    "# get degree distribution pairs (degree, count)\n",
    "CntV = G8.GetOutDegCnt()\n",
    "# get first eigenvector of graph adjacency matrix\n",
    "EigV = G8.GetLeadEigVec()\n",
    "# get diameter of G8\n",
    "G8.GetBfsFullDiam(100)\n",
    "# count the number of triads in G8, get the clustering coefficient of G8\n",
    "G8.GetTriads()\n",
    "G8.GetClustCf()\n"
   ]
  },
  {
   "cell_type": "code",
   "execution_count": 12,
   "metadata": {},
   "outputs": [],
   "source": [
    "import snap\n",
    "\n",
    "G = snap.GenPrefAttach(100000, 3)\n",
    "G.PlotInDegDistr(\"pref-attach\", \"PrefAttach(100000, 3) in Degree\")\n"
   ]
  },
  {
   "cell_type": "code",
   "execution_count": 13,
   "metadata": {},
   "outputs": [],
   "source": [
    "import snap\n",
    "\n",
    "G = snap.GenGrid(snap.PUNGraph, 5, 3)\n",
    "G.DrawGViz(snap.gvlDot, \"grid5x3.png\", \"Grid 5x3\")\n"
   ]
  },
  {
   "cell_type": "code",
   "execution_count": null,
   "metadata": {},
   "outputs": [],
   "source": [
    "import snap\n",
    "\n",
    "Graph = snap.GenRndGnm(snap.TNGraph, 10, 50)\n",
    "labels = {}\n",
    "for NI in Graph.Nodes():\n",
    "        labels[NI.GetId()] = str(NI.GetId())\n",
    "Graph.DrawGViz(snap.gvlDot, \"output.png\", \" \", labels)\n",
    "\n",
    "UGraph = snap.GenRndGnm(snap.TUNGraph, 10, 50)\n",
    "labels = {}\n",
    "for NI in UGraph.Nodes():\n",
    "    labels[NI.GetId()] = str(NI.GetId())\n",
    "UGraph.DrawGViz(snap.gvlDot, \"output.png\", \" \", labels)\n",
    "\n",
    "Network = snap.GenRndGnm(snap.TNEANet, 10, 50)\n",
    "labels = {}\n",
    "for NI in Network.Nodes():\n",
    "    labels[NI.GetId()] = str(NI.GetId())\n",
    "Network.DrawGViz(snap.gvlDot, \"output.png\", \" \", labels)"
   ]
  },
  {
   "cell_type": "markdown",
   "metadata": {},
   "source": [
    "# 学习测试"
   ]
  },
  {
   "cell_type": "code",
   "execution_count": 2,
   "metadata": {},
   "outputs": [],
   "source": [
    "import snap\n",
    "\n",
    "# 创建一个图，15个节点,20条边\n",
    "Graph = snap.GenRndGnm(snap.PUNGraph, 15, 20)\n",
    " \n",
    "labels = snap.TIntStrH()\n",
    "for NI in Graph.Nodes():\n",
    "    labels[NI.GetId()] = str(NI.GetId()) # value是字符串\n",
    "\n",
    "snap.DrawGViz(Graph, snap.gvlDot, \"graph.png\", \"graph 1\",labels)"
   ]
  },
  {
   "cell_type": "code",
   "execution_count": 3,
   "metadata": {},
   "outputs": [
    {
     "data": {
      "text/plain": [
       "False"
      ]
     },
     "execution_count": 3,
     "metadata": {},
     "output_type": "execute_result"
    }
   ],
   "source": [
    "# 判断两个点之间是否有边\n",
    "Graph.IsEdge(1,2) # 两个参数是整形，返回 true或者false"
   ]
  },
  {
   "cell_type": "code",
   "execution_count": 7,
   "metadata": {},
   "outputs": [
    {
     "data": {
      "text/plain": [
       "3"
      ]
     },
     "execution_count": 7,
     "metadata": {},
     "output_type": "execute_result"
    }
   ],
   "source": [
    "# 计算两点之间的最短路径\n",
    "snap.GetShortPath_PUNGraph(Graph,3,12)"
   ]
  },
  {
   "cell_type": "code",
   "execution_count": 8,
   "metadata": {},
   "outputs": [
    {
     "data": {
      "text/plain": [
       "0.4470899470899471"
      ]
     },
     "execution_count": 8,
     "metadata": {},
     "output_type": "execute_result"
    }
   ],
   "source": [
    "# 计算接近中心性\n",
    "'''https://www.zhihu.com/question/22610633/answer/143644471'''\n",
    "snap.GetClosenessCentr(Graph,2)"
   ]
  },
  {
   "cell_type": "code",
   "execution_count": 19,
   "metadata": {},
   "outputs": [],
   "source": [
    "# 计算其他中心性\n",
    "GetDegreeCentr = snap.GetDegreeCentr\n",
    "GetClosenessCentr_PNGraph = snap.GetClosenessCentr_PNGraph\n",
    "GetEigenVectorCentr = snap.GetEigenVectorCentr"
   ]
  },
  {
   "cell_type": "markdown",
   "metadata": {},
   "source": []
  }
 ],
 "metadata": {
  "interpreter": {
   "hash": "038eda8c76a1951754e57bd035650513593351de2fceb436ce8ff357ea69701f"
  },
  "kernelspec": {
   "display_name": "Python 3.7.9 64-bit ('base': conda)",
   "name": "python3"
  },
  "language_info": {
   "codemirror_mode": {
    "name": "ipython",
    "version": 3
   },
   "file_extension": ".py",
   "mimetype": "text/x-python",
   "name": "python",
   "nbconvert_exporter": "python",
   "pygments_lexer": "ipython3",
   "version": "3.7.9"
  },
  "orig_nbformat": 4
 },
 "nbformat": 4,
 "nbformat_minor": 2
}
