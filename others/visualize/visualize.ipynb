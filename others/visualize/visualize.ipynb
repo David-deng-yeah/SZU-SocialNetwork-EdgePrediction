{
 "cells": [
  {
   "cell_type": "code",
   "execution_count": 1,
   "metadata": {},
   "outputs": [],
   "source": [
    "import snap\n",
    "import math\n",
    "import random"
   ]
  },
  {
   "cell_type": "code",
   "execution_count": 2,
   "metadata": {},
   "outputs": [],
   "source": [
    "# ER 生成随机图\n",
    "G1=snap.GenRndGnm(snap.PUNGraph,5242,14484)"
   ]
  },
  {
   "cell_type": "code",
   "execution_count": 3,
   "metadata": {},
   "outputs": [],
   "source": [
    "# sw 随机网络\n",
    "G2=snap.TUNGraph.New()\n",
    "# 节点\n",
    "for i in range(5243):\n",
    "    G2.AddNode(i)\n",
    "# 环形\n",
    "for i in range(1,5243):\n",
    "    if i!=5242:\n",
    "        G2.AddEdge(i,i+1)\n",
    "    else:\n",
    "        G2.AddEdge(5242,1)\n",
    "# 邻居\n",
    "for i in range(1,5243):\n",
    "    if i<5241:\n",
    "        G2.AddEdge(i,i+2)\n",
    "    else:\n",
    "        G2.AddEdge(i,(i+2)%5242)"
   ]
  },
  {
   "cell_type": "code",
   "execution_count": 5,
   "metadata": {},
   "outputs": [],
   "source": [
    "# 科学家合作网络\n",
    "G3=snap.LoadEdgeList(snap.PNGraph,'data/ca-GrQc.txt',0,1)\n",
    "# 删掉自环\n",
    "snap.DelSelfEdges(G3)"
   ]
  },
  {
   "cell_type": "code",
   "execution_count": 6,
   "metadata": {},
   "outputs": [],
   "source": [
    "# 画图\n",
    "snap.DrawGViz(G1,snap.gvlNeato,'graph1.png','graph 1',True)\n",
    "snap.DrawGViz(G2,snap.gvlNeato,'graph2.png','graph 2',True)\n",
    "snap.DrawGViz(G3,snap.gvlNeato,'graph3.png','graph 3',True)"
   ]
  },
  {
   "cell_type": "code",
   "execution_count": null,
   "metadata": {},
   "outputs": [],
   "source": []
  }
 ],
 "metadata": {
  "interpreter": {
   "hash": "038eda8c76a1951754e57bd035650513593351de2fceb436ce8ff357ea69701f"
  },
  "kernelspec": {
   "display_name": "Python 3.7.9 64-bit ('base': conda)",
   "name": "python3"
  },
  "language_info": {
   "codemirror_mode": {
    "name": "ipython",
    "version": 3
   },
   "file_extension": ".py",
   "mimetype": "text/x-python",
   "name": "python",
   "nbconvert_exporter": "python",
   "pygments_lexer": "ipython3",
   "version": "3.7.9"
  },
  "orig_nbformat": 4
 },
 "nbformat": 4,
 "nbformat_minor": 2
}
