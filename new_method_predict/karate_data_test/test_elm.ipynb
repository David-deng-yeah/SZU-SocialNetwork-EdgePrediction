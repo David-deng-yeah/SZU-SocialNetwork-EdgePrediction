{
 "cells": [
  {
   "cell_type": "code",
   "execution_count": 2,
   "metadata": {},
   "outputs": [],
   "source": [
    "import elm\n",
    "import numpy as np\n",
    "from sklearn.model_selection import train_test_split\n",
    "from sklearn.datasets import load_iris, load_digits, load_diabetes, make_regression\n",
    "from sklearn.preprocessing import StandardScaler\n",
    "import matplotlib.pyplot as plt"
   ]
  },
  {
   "cell_type": "code",
   "execution_count": 3,
   "metadata": {},
   "outputs": [
    {
     "name": "stdout",
     "output_type": "stream",
     "text": [
      "irises dataset classification>>>>>>>>>>>>>>>>>>>>>>>>>>>>>>>>>>>>\n",
      "classifier test prediction: [0 0 2 0 2 0 0 1 0 1 1 2 2 0 0 2 0 2 1 0 2 0 1 2 0 2 1 0 2 0]\n",
      "classifier test accuracy: 0.9666666666666667\n"
     ]
    }
   ],
   "source": [
    "stdsc = StandardScaler()\n",
    "# **********************************\n",
    "# irises dataset classification\n",
    "# **********************************\n",
    "print(\"irises dataset classification>>>>>>>>>>>>>>>>>>>>>>>>>>>>>>>>>>>>\")\n",
    "# load dataset\n",
    "iris = load_iris()\n",
    "irx, iry = stdsc.fit_transform(iris.data), iris.target\n",
    "# print(\"irx shape:\", irx.shape)\n",
    "# print(\"iry shape:\", iry.shape)\n",
    "x_train, x_test, y_train, y_test = train_test_split(irx, iry, test_size=0.2)\n",
    "\n",
    "# built model and train\n",
    "model = elm.elm(hidden_units=35, activation_function='relu', random_type='normal', x=x_train, y=y_train, C=0.1, elm_type='clf')\n",
    "beta, train_accuracy, running_time = model.fit('solution2')\n",
    "# print(\"classifier beta:\\n\", beta)\n",
    "# print(\"classifier train accuracy:\", train_accuracy)\n",
    "# print('classifier running time:', running_time)\n",
    "\n",
    "# test\n",
    "prediction = model.predict(x_test)\n",
    "print(\"classifier test prediction:\", prediction)\n",
    "print('classifier test accuracy:', model.score(x_test, y_test))"
   ]
  },
  {
   "cell_type": "code",
   "execution_count": 9,
   "metadata": {},
   "outputs": [
    {
     "name": "stdout",
     "output_type": "stream",
     "text": [
      "handwritten number dataset classification>>>>>>>>>>>>>>>>>>>>>>>>\n",
      "classifier test prediction: [2 2 2 0 0 0 2 2 0 1 1 0 1 2 1 1 0 2 0 1 0 1 0 1 2 0 0 2 1 1]\n",
      "classifier test accuracy: 0.9333333333333333\n"
     ]
    }
   ],
   "source": [
    "# *******************************\n",
    "# handwritten number dataset\n",
    "# *******************************\n",
    "print(\"handwritten number dataset classification>>>>>>>>>>>>>>>>>>>>>>>>\")\n",
    "# load dataset\n",
    "digits = load_digits()\n",
    "dgx, dgy = stdsc.fit_transform(digits.data/16.0), digits.target\n",
    "# print(\"dgx shape:\", dgx.shape)\n",
    "# print(\"dgy shape:\", dgy.shape)\n",
    "x_train, x_test, y_train, y_test = train_test_split(irx, iry, test_size=0.2)\n",
    "\n",
    "# build model and train\n",
    "model = elm.elm(hidden_units=32, activation_function='relu', random_type='normal', x=x_train, y=y_train, C=0.1, elm_type='clf')\n",
    "beta, train_accuracy, running_time = model.fit('solution2')\n",
    "# print(\"classifier beta:\\n\", beta)\n",
    "# print(\"classifier train accuracy:\", train_accuracy)\n",
    "# print('classifier running time:', running_time)\n",
    "\n",
    "# test\n",
    "prediction = model.predict(x_test)\n",
    "print(\"classifier test prediction:\", prediction)\n",
    "print('classifier test accuracy:', model.score(x_test, y_test))"
   ]
  }
 ],
 "metadata": {
  "interpreter": {
   "hash": "038eda8c76a1951754e57bd035650513593351de2fceb436ce8ff357ea69701f"
  },
  "kernelspec": {
   "display_name": "Python 3.7.9 64-bit ('base': conda)",
   "name": "python3"
  },
  "language_info": {
   "codemirror_mode": {
    "name": "ipython",
    "version": 3
   },
   "file_extension": ".py",
   "mimetype": "text/x-python",
   "name": "python",
   "nbconvert_exporter": "python",
   "pygments_lexer": "ipython3",
   "version": "3.7.9"
  },
  "orig_nbformat": 4
 },
 "nbformat": 4,
 "nbformat_minor": 2
}
